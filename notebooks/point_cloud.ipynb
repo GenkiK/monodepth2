{
 "cells": [
  {
   "cell_type": "code",
   "execution_count": 1,
   "metadata": {},
   "outputs": [
    {
     "name": "stdout",
     "output_type": "stream",
     "text": [
      "Jupyter environment detected. Enabling Open3D WebVisualizer.\n",
      "[Open3D INFO] WebRTC GUI backend enabled.\n",
      "[Open3D INFO] WebRTCWindowSystem: HTTP handshake server disabled.\n"
     ]
    }
   ],
   "source": [
    "from pathlib import Path\n",
    "import numpy as np\n",
    "import open3d as o3d\n",
    "import cv2\n",
    "from PIL import Image\n",
    "\n",
    "import sys\n",
    "sys.path.append('/home/gkinoshita/workspace/monodepth2')\n",
    "\n",
    "from layers import disp_to_depth"
   ]
  },
  {
   "cell_type": "code",
   "execution_count": 2,
   "metadata": {},
   "outputs": [],
   "source": [
    "root_dir = Path(\"/home/gkinoshita/humpback/workspace/monodepth2/\")\n",
    "img_root_dir = root_dir / \"kitti_data\""
   ]
  },
  {
   "cell_type": "code",
   "execution_count": 3,
   "metadata": {},
   "outputs": [],
   "source": [
    "K = np.array([[0.58, 0, 0.5], [0, 1.92, 0.5], [0, 0, 1]], dtype=np.float32)\n",
    "\n",
    "width = 1024\n",
    "height = 320\n",
    "K[0, :] *= width\n",
    "K[1, :] *= height\n",
    "\n",
    "gamma = 2.0  # γ値を指定\n",
    "img2gamma = np.zeros((256, 1), dtype=np.uint8)  # ガンマ変換初期値\n",
    "\n",
    "for i in range(256):\n",
    "    img2gamma[i, 0] = 255 * (i / 255) ** (1.0 / gamma)"
   ]
  },
  {
   "cell_type": "code",
   "execution_count": 5,
   "metadata": {},
   "outputs": [
    {
     "name": "stdout",
     "output_type": "stream",
     "text": [
      "/home/gkinoshita/workspace/monodepth2/kitti_data/2011_09_26/2011_09_26_drive_0018_sync/image_1024x320_02/0000000001.jpg\n",
      "/home/gkinoshita/workspace/monodepth2/kitti_data/2011_09_26/2011_09_26_drive_0018_sync/image_1024x320_02/0000000021.jpg\n",
      "/home/gkinoshita/workspace/monodepth2/kitti_data/2011_09_26/2011_09_26_drive_0018_sync/image_1024x320_02/0000000041.jpg\n",
      "/home/gkinoshita/workspace/monodepth2/kitti_data/2011_09_26/2011_09_26_drive_0018_sync/image_1024x320_02/0000000061.jpg\n",
      "/home/gkinoshita/workspace/monodepth2/kitti_data/2011_09_26/2011_09_26_drive_0018_sync/image_1024x320_02/0000000081.jpg\n",
      "/home/gkinoshita/workspace/monodepth2/kitti_data/2011_09_26/2011_09_26_drive_0018_sync/image_1024x320_02/0000000101.jpg\n"
     ]
    },
    {
     "ename": "KeyboardInterrupt",
     "evalue": "",
     "output_type": "error",
     "traceback": [
      "\u001b[0;31m---------------------------------------------------------------------------\u001b[0m",
      "\u001b[0;31mKeyboardInterrupt\u001b[0m                         Traceback (most recent call last)",
      "Cell \u001b[0;32mIn[5], line 49\u001b[0m\n\u001b[1;32m     47\u001b[0m pt_cloud \u001b[39m=\u001b[39m o3d\u001b[39m.\u001b[39mgeometry\u001b[39m.\u001b[39mPointCloud\u001b[39m.\u001b[39mcreate_from_rgbd_image(rgbd_img, intrinsic)\n\u001b[1;32m     48\u001b[0m pt_cloud\u001b[39m.\u001b[39mtransform([[\u001b[39m1\u001b[39m, \u001b[39m0\u001b[39m, \u001b[39m0\u001b[39m, \u001b[39m0\u001b[39m], [\u001b[39m0\u001b[39m, \u001b[39m-\u001b[39m\u001b[39m1\u001b[39m, \u001b[39m0\u001b[39m, \u001b[39m0\u001b[39m], [\u001b[39m0\u001b[39m, \u001b[39m0\u001b[39m, \u001b[39m-\u001b[39m\u001b[39m1\u001b[39m, \u001b[39m0\u001b[39m], [\u001b[39m0\u001b[39m, \u001b[39m0\u001b[39m, \u001b[39m0\u001b[39m, \u001b[39m1\u001b[39m]])\n\u001b[0;32m---> 49\u001b[0m o3d\u001b[39m.\u001b[39;49mvisualization\u001b[39m.\u001b[39;49mdraw_geometries(geometry_list\u001b[39m=\u001b[39;49m[pt_cloud])\n",
      "\u001b[0;31mKeyboardInterrupt\u001b[0m: "
     ]
    }
   ],
   "source": [
    "# intrinsic = o3d.camera.PinholeCameraIntrinsic(width=width, height=height, intrinsic_matrix=K)\n",
    "\n",
    "# date_dirs = sorted([d for d in img_root_dir.iterdir() if d.is_dir()])\n",
    "# for date_dir in date_dirs:\n",
    "#     scene_dirs = sorted([d for d in date_dir.glob(\"*_sync\")])\n",
    "#     n_img = 3\n",
    "#     for scene_dir in scene_dirs:\n",
    "#         cnt = 0\n",
    "#         img_paths = sorted((scene_dir / f\"image_{width}x{height}_02\").glob(\"*jpg\"))[1:]\n",
    "#         for img_idx in range(0, len(img_paths), 10):\n",
    "#             img_path = img_paths[img_idx]\n",
    "#             cnt += 1\n",
    "#             if cnt > n_img:\n",
    "#                 break\n",
    "#             # disp_path = Path(str(img_path).replace(\"image\", \"disp\").replace(\".jpg\", \"_disp.npy\")) # monodepth2\n",
    "#             disp_path = Path(str(img_path).replace(\"image\", \"disp_manydepth_multi\").replace(\"jpg\", \"npy\"))\n",
    "#             # assert disp_path.exists()\n",
    "#             print(img_path)\n",
    "#             img = np.array(Image.open(img_path))\n",
    "#             img = cv2.LUT(img, img2gamma)\n",
    "#             color = o3d.geometry.Image(img)\n",
    "#             disp = np.load(disp_path).reshape(height, width)\n",
    "#             depth = disp2depth(disp)\n",
    "#             depth = o3d.geometry.Image(depth)\n",
    "#             rgbd_img = o3d.geometry.RGBDImage.create_from_color_and_depth(color, depth, convert_rgb_to_intensity=False)\n",
    "#             pt_cloud = o3d.geometry.PointCloud.create_from_rgbd_image(rgbd_img, intrinsic)\n",
    "#             pt_cloud.transform([[1, 0, 0, 0], [0, -1, 0, 0], [0, 0, -1, 0], [0, 0, 0, 1]])\n",
    "#             o3d.visualization.draw_geometries(geometry_list=[pt_cloud])\n",
    "#         print(\"\\n=================================================================\\n\")\n",
    "intrinsic = o3d.camera.PinholeCameraIntrinsic(width=width, height=height, intrinsic_matrix=K)\n",
    "\n",
    "cnt = 0\n",
    "# scene_dir = Path(\"/home/gkinoshita/workspace/monodepth2/kitti_data/2011_09_26/2011_09_26_drive_0022_sync\")\n",
    "scene_dir = Path(\"/home/gkinoshita/workspace/monodepth2/kitti_data/2011_09_26/2011_09_26_drive_0018_sync\")\n",
    "img_paths = sorted((scene_dir / f\"image_{width}x{height}_02\").glob(\"*jpg\"))[1:]\n",
    "for img_idx in range(0, 1000, 20):\n",
    "    img_path = img_paths[img_idx]\n",
    "    disp_path = Path(str(img_path).replace(\"image\", \"disp_manydepth_multi\").replace(\"jpg\", \"npy\"))\n",
    "    print(img_path)\n",
    "    img = np.array(Image.open(img_path))\n",
    "    img = cv2.LUT(img, img2gamma)\n",
    "    color = o3d.geometry.Image(img)\n",
    "    disp = np.load(disp_path).reshape(height, width)\n",
    "    _, depth = disp_to_depth(disp)\n",
    "    depth = o3d.geometry.Image(depth)\n",
    "    rgbd_img = o3d.geometry.RGBDImage.create_from_color_and_depth(color, depth, convert_rgb_to_intensity=False)\n",
    "    pt_cloud = o3d.geometry.PointCloud.create_from_rgbd_image(rgbd_img, intrinsic)\n",
    "    pt_cloud.transform([[1, 0, 0, 0], [0, -1, 0, 0], [0, 0, -1, 0], [0, 0, 0, 1]])\n",
    "    o3d.visualization.draw_geometries(geometry_list=[pt_cloud])"
   ]
  },
  {
   "cell_type": "code",
   "execution_count": 15,
   "metadata": {},
   "outputs": [
    {
     "data": {
      "text/plain": [
       "(1, 1, 320, 1024)"
      ]
     },
     "execution_count": 15,
     "metadata": {},
     "output_type": "execute_result"
    }
   ],
   "source": [
    "disp.shape"
   ]
  }
 ],
 "metadata": {
  "kernelspec": {
   "display_name": "venv",
   "language": "python",
   "name": "python3"
  },
  "language_info": {
   "codemirror_mode": {
    "name": "ipython",
    "version": 3
   },
   "file_extension": ".py",
   "mimetype": "text/x-python",
   "name": "python",
   "nbconvert_exporter": "python",
   "pygments_lexer": "ipython3",
   "version": "3.10.4"
  },
  "orig_nbformat": 4,
  "vscode": {
   "interpreter": {
    "hash": "e5c9e16933455734aa50e08252a81cecbecbbbf2643265a4592cfa7d52d4f8a0"
   }
  }
 },
 "nbformat": 4,
 "nbformat_minor": 2
}
